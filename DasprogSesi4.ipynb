{
 "cells": [
  {
   "cell_type": "code",
   "execution_count": 1,
   "id": "c1dd024e-27af-4641-9835-754d70d4b9bf",
   "metadata": {},
   "outputs": [
    {
     "name": "stdout",
     "output_type": "stream",
     "text": [
      "Setiap teman menerima: 3 apel\n",
      "Total apel Budi sekarang: 20\n"
     ]
    }
   ],
   "source": [
    "# 1. Operator Aritmatika:\n",
    "apel = 12\n",
    "teman = 4\n",
    "apel_per_teman = apel // teman\n",
    "print(\"Setiap teman menerima:\", apel_per_teman, \"apel\")\n",
    "\n",
    "apel_budi = apel + 8\n",
    "print(\"Total apel Budi sekarang:\", apel_budi)"
   ]
  },
  {
   "cell_type": "code",
   "execution_count": 2,
   "id": "894576cf-24a0-45a9-a044-c631c480c3d9",
   "metadata": {},
   "outputs": [
    {
     "name": "stdout",
     "output_type": "stream",
     "text": [
      "Apakah Andi lebih tinggi dari Siti? True\n"
     ]
    }
   ],
   "source": [
    "# 2. Operator Perbandingan:\n",
    "tinggi_siti = 160\n",
    "tinggi_andi = 165\n",
    "print(\"Apakah Andi lebih tinggi dari Siti?\", tinggi_andi > tinggi_siti)"
   ]
  },
  {
   "cell_type": "code",
   "execution_count": 3,
   "id": "fbb00f7a-a898-45c7-b8d2-48b4ac37872f",
   "metadata": {},
   "outputs": [
    {
     "name": "stdout",
     "output_type": "stream",
     "text": [
      "Budi bisa bermain? True\n"
     ]
    }
   ],
   "source": [
    "# 3. Operator Logika:\n",
    "cuaca_cerah = True\n",
    "pr_selesai = True\n",
    "budi_bisa_bermain = cuaca_cerah and pr_selesai\n",
    "print(\"Budi bisa bermain?\", budi_bisa_bermain)"
   ]
  },
  {
   "cell_type": "code",
   "execution_count": 4,
   "id": "6f6f4962-934f-4eee-b93a-d56e7cdc72b9",
   "metadata": {},
   "outputs": [
    {
     "name": "stdout",
     "output_type": "stream",
     "text": [
      "Bitwise AND: 2\n",
      "Bitwise OR: 7\n",
      "Bitwise XOR: 5\n"
     ]
    }
   ],
   "source": [
    "# 4. Operator Bitwise:\n",
    "a = 6\n",
    "b = 3\n",
    "print(\"Bitwise AND:\", a & b)\n",
    "print(\"Bitwise OR:\", a | b)\n",
    "print(\"Bitwise XOR:\", a ^ b)"
   ]
  },
  {
   "cell_type": "code",
   "execution_count": 5,
   "id": "36b368f8-6783-4b7e-88b0-78c498c7d080",
   "metadata": {},
   "outputs": [
    {
     "name": "stdout",
     "output_type": "stream",
     "text": [
      "Sisa saldo pulsa: 40000\n"
     ]
    }
   ],
   "source": [
    "# 5. Operator Penugasan:\n",
    "saldo = 50000\n",
    "saldo += 20000\n",
    "saldo -= 30000\n",
    "print(\"Sisa saldo pulsa:\", saldo)"
   ]
  },
  {
   "cell_type": "code",
   "execution_count": 6,
   "id": "15a96098-aa39-4469-94d4-0226ffab0161",
   "metadata": {},
   "outputs": [
    {
     "name": "stdout",
     "output_type": "stream",
     "text": [
      "Apakah Eka terdaftar? False\n",
      "Apakah kata 'Python' ada dalam kalimat? True\n"
     ]
    }
   ],
   "source": [
    "# 6. Operator Keanggotaan:\n",
    "peserta = [\"Andi\", \"Budi\", \"Citra\", \"Dewi\"]\n",
    "print(\"Apakah Eka terdaftar?\", \"Eka\" in peserta)\n",
    "\n",
    "kalimat = \"Saya suka belajar Python\"\n",
    "print(\"Apakah kata 'Python' ada dalam kalimat?\", \"Python\" in kalimat)"
   ]
  },
  {
   "cell_type": "code",
   "execution_count": 7,
   "id": "0a04dbf0-a065-4b65-90af-c3fca33629c8",
   "metadata": {},
   "outputs": [
    {
     "name": "stdout",
     "output_type": "stream",
     "text": [
      "Apakah x dan y merujuk ke objek yang sama? True\n",
      "Apakah list1 dan list2 mengacu ke objek yang sama? False\n"
     ]
    }
   ],
   "source": [
    "# 7. Operator Identitas:\n",
    "x = 100\n",
    "y = 100\n",
    "print(\"Apakah x dan y merujuk ke objek yang sama?\", x is y)\n",
    "\n",
    "list1 = [1, 2, 3]\n",
    "list2 = [1, 2, 3]\n",
    "print(\"Apakah list1 dan list2 mengacu ke objek yang sama?\", list1 is list2)"
   ]
  },
  {
   "cell_type": "code",
   "execution_count": 8,
   "id": "3570aebd-fdbd-4fe8-adb0-ed32d3e7df45",
   "metadata": {},
   "outputs": [
    {
     "name": "stdout",
     "output_type": "stream",
     "text": [
      "Hasil pengecekan angka: Lebih besar dari 100\n",
      "Status ujian: Tidak Lulus\n"
     ]
    }
   ],
   "source": [
    "# 8. Operator Ternary:\n",
    "angka = 150\n",
    "print(\"Hasil pengecekan angka:\", \"Lebih besar dari 100\" if angka > 100 else \"Tidak lebih besar dari 100\")\n",
    "\n",
    "nilai = 65\n",
    "print(\"Status ujian:\", \"Lulus\" if nilai > 70 else \"Tidak Lulus\")"
   ]
  }
 ],
 "metadata": {
  "kernelspec": {
   "display_name": "Python 3 (ipykernel)",
   "language": "python",
   "name": "python3"
  },
  "language_info": {
   "codemirror_mode": {
    "name": "ipython",
    "version": 3
   },
   "file_extension": ".py",
   "mimetype": "text/x-python",
   "name": "python",
   "nbconvert_exporter": "python",
   "pygments_lexer": "ipython3",
   "version": "3.13.2"
  }
 },
 "nbformat": 4,
 "nbformat_minor": 5
}
