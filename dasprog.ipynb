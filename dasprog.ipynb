{
 "cells": [
  {
   "cell_type": "code",
   "execution_count": 1,
   "id": "f405b7ea",
   "metadata": {},
   "outputs": [
    {
     "name": "stdout",
     "output_type": "stream",
     "text": [
      "Isikan nama anda:yuda\n",
      "Selamat datang yuda\n",
      "Ini adalah urutan angka: \n",
      "123A-B-C\n"
     ]
    }
   ],
   "source": [
    "name = input(\"Isikan nama anda:\")\n",
    "\n",
    "print(\"Selamat datang\", name)\n",
    "print(\"Ini adalah urutan angka: \")\n",
    "print(\"1\", end='')\n",
    "print(\"2\", end='')\n",
    "print(\"3\", end='')\n",
    "print(\"A\",\"B\",\"C\",sep='-')"
   ]
  },
  {
   "cell_type": "code",
   "execution_count": 2,
   "id": "e7cb21ee",
   "metadata": {},
   "outputs": [
    {
     "name": "stdout",
     "output_type": "stream",
     "text": [
      "Isikan Bilang 1:10\n",
      "Isikan Bilang 2:10\n",
      "Hasil Penjumlahan 10 + 10 = 20\n",
      "Hasil Penjumlahan 10 + 10 = 20\n"
     ]
    }
   ],
   "source": [
    "val1 = int(input(\"Isikan Bilang 1:\"))\n",
    "val2 = int(input(\"Isikan Bilang 2:\"))\n",
    "\n",
    "print(\"Hasil Penjumlahan\",val1,\"+\",val2,\"=\",val1+val2)\n",
    "print(\"Hasil Penjumlahan {} + {} = {}\".format(val1,val2,val1+val2))"
   ]
  },
  {
   "cell_type": "code",
   "execution_count": 3,
   "id": "1d012d3c",
   "metadata": {},
   "outputs": [
    {
     "name": "stdout",
     "output_type": "stream",
     "text": [
      "Isikan nama awal :yuda\n",
      "Isikan nama tengah :yudistira\n",
      "Isikan nama akhir :S.kom\n",
      "Nama lengkap : yuda yudistira S.kom\n",
      "Nama lengkap : yudistira yuda S.kom\n",
      "Nama lengkap : yuda yudistira S.kom\n"
     ]
    }
   ],
   "source": [
    "fname = input(\"Isikan nama awal :\")\n",
    "mname = input(\"Isikan nama tengah :\")\n",
    "lname = input(\"Isikan nama akhir :\")\n",
    "print(\"Nama lengkap : {} {} {}\".format(fname,mname,lname))\n",
    "print(\"Nama lengkap : {1} {0} {2}\".format(fname,mname,lname))\n",
    "print(\"Nama lengkap : {f} {m} {l}\".format(f=fname,m=mname,l=lname))"
   ]
  },
  {
   "cell_type": "code",
   "execution_count": 4,
   "id": "a8bd62fc",
   "metadata": {},
   "outputs": [
    {
     "name": "stdout",
     "output_type": "stream",
     "text": [
      "Isikan Kalimat :Houhou\n",
      "Karakter ke 2 adalah : o\n",
      "Karakter ke 2 dst : uhou\n",
      "Karakter ke 2 sampai 5 : ouh\n",
      "Karakter terakhir adalah : u\n",
      "Karakter dibalik : uohuoH\n"
     ]
    }
   ],
   "source": [
    "k = input(\"Isikan Kalimat :\")\n",
    "print(\"Karakter ke 2 adalah :\",k[1])\n",
    "print(\"Karakter ke 2 dst :\",k[2:])\n",
    "print(\"Karakter ke 2 sampai 5 :\",k[1:4])\n",
    "print(\"Karakter terakhir adalah :\",k[-1])\n",
    "print(\"Karakter dibalik :\",k[::-1])"
   ]
  },
  {
   "cell_type": "code",
   "execution_count": 6,
   "id": "62f7c2c3",
   "metadata": {},
   "outputs": [
    {
     "name": "stdout",
     "output_type": "stream",
     "text": [
      "Nama awal : Yudha\n",
      "Nama akhir : Yudistira\n",
      "Gelar : S.Kom\n",
      "-1\n"
     ]
    }
   ],
   "source": [
    "namal =\"Yudha Yudistira S.Kom\"\n",
    "name = namal.split(' ')\n",
    "print(\"Nama awal :\", name[0])\n",
    "print(\"Nama akhir :\", name[1])\n",
    "print(\"Gelar :\", name[2])\n",
    "\n",
    "np = \"RI 1 A\"\n",
    "c = np.find(\"r\")\n",
    "print(c)"
   ]
  },
  {
   "cell_type": "code",
   "execution_count": 8,
   "id": "93b19367",
   "metadata": {},
   "outputs": [
    {
     "name": "stdout",
     "output_type": "stream",
     "text": [
      "Isikan email anda :yudagmailcom\n",
      "Tidak valid\n"
     ]
    }
   ],
   "source": [
    "email = input(\"Isikan email anda :\")\n",
    "print(\"Valid\" if \"@\" in email and email.endswith(\"@gmail.com\") and email.count(\"@\") == 1 else \"Tidak valid\")"
   ]
  },
  {
   "cell_type": "code",
   "execution_count": 15,
   "id": "88715b1e",
   "metadata": {},
   "outputs": [
    {
     "name": "stdout",
     "output_type": "stream",
     "text": [
      "Nilai acak pecahan :0.506797903079371\n",
      "Nilai acak diantara 0-100 :92\n",
      "Sekarang bulang: nov\n"
     ]
    }
   ],
   "source": [
    "from random import random\n",
    "nilai = random()\n",
    "print(f\"Nilai acak pecahan :{nilai}\")\n",
    "\n",
    "from random import randint\n",
    "inilai = randint(0,100)\n",
    "print(f\"Nilai acak diantara 0-100 :{inilai}\")\n",
    "\n",
    "from random import choice\n",
    "month = [\"jan\",\"feb\",\"mar\",\"apr\",\"mei\",\"jun\",\"jul\",\"agus\",\"sep\",\"octo\",\"nov\",\"des\"]\n",
    "bulan = choice(month)\n",
    "print(f\"Sekarang bulang: {bulan}\")"
   ]
  },
  {
   "cell_type": "code",
   "execution_count": 19,
   "id": "9a156bc7",
   "metadata": {
    "scrolled": true
   },
   "outputs": [
    {
     "name": "stdout",
     "output_type": "stream",
     "text": [
      "berapakah hasil nilai 34+82? \n",
      "Isikan jawaban anda:106\n",
      "anda salah\n"
     ]
    }
   ],
   "source": [
    "n1 = randint(0,100)\n",
    "n2= randint(0,100)\n",
    "print(f\"berapakah hasil nilai {n1}+{n2}? \")\n",
    "answer = int(input(\"Isikan jawaban anda:\"))\n",
    "check = \"Anda benar!!\" if n1 + n2 == answer else \"anda salah\"\n",
    "print(check)"
   ]
  },
  {
   "cell_type": "code",
   "execution_count": 26,
   "id": "45a366d6",
   "metadata": {},
   "outputs": [
    {
     "name": "stdout",
     "output_type": "stream",
     "text": [
      "What is the Indonesian word for 'unselfish'?\n",
      "Enter your answer: tidak egois\n",
      "You are wrong\n"
     ]
    }
   ],
   "source": [
    "import requests\n",
    "\n",
    "response = requests.get(\"https://random-word-api.vercel.app/api?words=10\")\n",
    "words = response.json()\n",
    "dictionary = {\n",
    "    \"apple\": \"apel\",\n",
    "    \"banana\": \"pisang\",\n",
    "    \"cherry\": \"ceri\",\n",
    "    \"dog\": \"anjing\",\n",
    "    \"cat\": \"kucing\",\n",
    "    \"house\": \"rumah\",\n",
    "    \"book\": \"buku\",\n",
    "    \"car\": \"mobil\",\n",
    "    \"tree\": \"pohon\",\n",
    "    \"computer\": \"komputer\"\n",
    "}\n",
    "\n",
    "word_to_translate = words[0]\n",
    "print(f\"What is the Indonesian word for '{word_to_translate}'?\")\n",
    "answer = input(\"Enter your answer: \").lower()\n",
    "check = \"You are correct!!\" if dictionary.get(word_to_translate, \"\").lower() == answer else \"You are wrong\"\n",
    "print(check)\n"
   ]
  }
 ],
 "metadata": {
  "kernelspec": {
   "display_name": "Python 3 (ipykernel)",
   "language": "python",
   "name": "python3"
  },
  "language_info": {
   "codemirror_mode": {
    "name": "ipython",
    "version": 3
   },
   "file_extension": ".py",
   "mimetype": "text/x-python",
   "name": "python",
   "nbconvert_exporter": "python",
   "pygments_lexer": "ipython3",
   "version": "3.9.12"
  }
 },
 "nbformat": 4,
 "nbformat_minor": 5
}
