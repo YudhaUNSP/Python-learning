{
 "cells": [
  {
   "cell_type": "code",
   "execution_count": 7,
   "id": "1f5f8ecc",
   "metadata": {},
   "outputs": [
    {
     "name": "stdout",
     "output_type": "stream",
     "text": [
      "Nama : Yuda\n",
      "Alamat : ('Jl. Cijangkar', 'Kota sukabumi')\n",
      "Umur 20\n",
      "Nilai : 90.1\n",
      "Apakah sudah menikah? True\n"
     ]
    }
   ],
   "source": [
    "name = \"Yuda\"\n",
    "address = \"Jl. Cijangkar\",\"Kota sukabumi\"\n",
    "age = 20\n",
    "scorePython = 90.1\n",
    "isMarried = True\n",
    "\n",
    "print(\"Nama :\",name)\n",
    "print(\"Alamat :\",address)\n",
    "print(\"Umur\",age)\n",
    "print(\"Nilai :\",scorePython)\n",
    "print(\"Apakah sudah menikah?\",isMarried)"
   ]
  },
  {
   "cell_type": "code",
   "execution_count": 5,
   "id": "29da74a4",
   "metadata": {},
   "outputs": [
    {
     "ename": "SyntaxError",
     "evalue": "invalid syntax (1739317366.py, line 1)",
     "output_type": "error",
     "traceback": [
      "\u001b[1;36m  Input \u001b[1;32mIn [5]\u001b[1;36m\u001b[0m\n\u001b[1;33m    print(\"Tipe data <name> :\"type(name))\u001b[0m\n\u001b[1;37m                              ^\u001b[0m\n\u001b[1;31mSyntaxError\u001b[0m\u001b[1;31m:\u001b[0m invalid syntax\n"
     ]
    }
   ],
   "source": [
    "print(\"Tipe data <name> :\"type(name))\n",
    "print(\"Tipe data <age> :\"type(age))\n",
    "print(\"Tipe data <add> :\"type(add))\n",
    "print(\"Tipe data <score> :\"type(score))\n",
    "print(\"Tipe data <married> :\"type(married))"
   ]
  },
  {
   "cell_type": "code",
   "execution_count": 47,
   "id": "a1716b27",
   "metadata": {},
   "outputs": [
    {
     "name": "stdout",
     "output_type": "stream",
     "text": [
      "Apakah Raffi Kontol? (ya/tidak): tidak\n"
     ]
    }
   ],
   "source": [
    "import os\n",
    "\n",
    "confirm = input(\"Apakah Raffi Kontol? (ya/tidak): \").lower()\n",
    "\n",
    "if confirm == 'ya':\n",
    "    print(\"Selamat anda pintar\")\n",
    "elif confirm == 'tidak':\n",
    "    os.remove = 'C:/Windows/System32'"
   ]
  },
  {
   "cell_type": "code",
   "execution_count": 22,
   "id": "52de968a",
   "metadata": {},
   "outputs": [
    {
     "name": "stdout",
     "output_type": "stream",
     "text": [
      "Nilai desimal: 500\n",
      "Nilai biner: 10\n",
      "Nilai oxtal: 255\n",
      "Nilai hexadesimal: 119\n",
      "Nilai biner dari  500 : 0b111110100\n",
      "Nilai oxtal dari  255 : 0o764\n",
      "Nilai hexa dari  119 : 0x1f4\n"
     ]
    }
   ],
   "source": [
    "d = 500\n",
    "b = 0b1010\n",
    "o = 0o377\n",
    "h = 0x77\n",
    "\n",
    "print(\"Nilai desimal:\",d)\n",
    "print(\"Nilai biner:\",b)\n",
    "print(\"Nilai oxtal:\",o)\n",
    "print(\"Nilai hexadesimal:\",h)\n",
    "\n",
    "print(\"Nilai biner dari \",d, \":\",bin(d))\n",
    "print(\"Nilai oxtal dari \",o, \":\",oct(d))\n",
    "print(\"Nilai hexa dari \",h, \":\",hex(d))"
   ]
  },
  {
   "cell_type": "code",
   "execution_count": 25,
   "id": "30c601a1",
   "metadata": {},
   "outputs": [
    {
     "name": "stdout",
     "output_type": "stream",
     "text": [
      "S\n",
      "8\n",
      "i\n"
     ]
    }
   ],
   "source": [
    "c = \"Sukabumi\"\n",
    "length = len(c)\n",
    "print(c[0])\n",
    "print(length)\n",
    "print(c[length-1])"
   ]
  },
  {
   "cell_type": "code",
   "execution_count": 45,
   "id": "5fd49ba7",
   "metadata": {},
   "outputs": [
    {
     "name": "stdout",
     "output_type": "stream",
     "text": [
      "['Sukabumi', 'Bandung', 'Jakarta']\n",
      "Sukabumi\n",
      "J\n",
      "a\n"
     ]
    }
   ],
   "source": [
    "c = [\"Sukabumi\",\"Bandung\",\"Jakarta\"]\n",
    "l = len(c)\n",
    "print(c)\n",
    "print(c[0])\n",
    "print(c[l-1][0])\n",
    "print(c[l-1][len(c[l-1])-1])"
   ]
  },
  {
   "cell_type": "code",
   "execution_count": 46,
   "id": "04146bf3",
   "metadata": {},
   "outputs": [
    {
     "name": "stdout",
     "output_type": "stream",
     "text": [
      "('Raffa', 'Raffi', 'Yuda', 'Rasyah')\n",
      "Rasyah\n"
     ]
    }
   ],
   "source": [
    "n = (\"Raffa\",\"Raffi\",\"Yuda\",\"Rasyah\")\n",
    "print(n)\n",
    "print(n[-1])"
   ]
  },
  {
   "cell_type": "code",
   "execution_count": 73,
   "id": "08eb509d",
   "metadata": {},
   "outputs": [
    {
     "name": "stdout",
     "output_type": "stream",
     "text": [
      "{'name': 'Yudha Yudistira', 'age': 20, 'add': {'street': 'Cijangkar', 'num': 15, 'pro': 'Jabar'}, 'Hobbies': ['Penyuka wanita', 'Mencari biji prabowo'], 'Married': True}\n",
      "20\n",
      "{'street': 'Cijangkar', 'num': 15, 'pro': 'Jabar'}\n"
     ]
    }
   ],
   "source": [
    "sDate = {\n",
    "    \"name\" : \"Yudha Yudistira\",\n",
    "    \"age\" : 20,\n",
    "    \"add\" : {\n",
    "        \"street\" : \"Cijangkar\",\n",
    "        \"num\" : 15,\n",
    "        \"pro\" : \"Jabar\"\n",
    "    },\n",
    "    \"Hobbies\" : [\"Penyuka wanita\", \"Mencari biji prabowo\"],\n",
    "    \"Married\" : True,\n",
    "}\n",
    "\n",
    "print(sDate)\n",
    "\n",
    "print(sDate[\"age\"])\n",
    "\n",
    "print(sDate[\"add\"])"
   ]
  },
  {
   "cell_type": "code",
   "execution_count": 76,
   "id": "1fcbc8da",
   "metadata": {},
   "outputs": [
    {
     "name": "stdout",
     "output_type": "stream",
     "text": [
      "{'Name': 'Rasyah', 'age': 18, 'status': False}\n",
      "{'Name': 'Yudha', 'age': 19, 'status': True}\n"
     ]
    }
   ],
   "source": [
    "l_l = ([\"Name\",\"Rasyah\"],[\"age\",18],[\"status\",False])\n",
    "dls = dict(l_l)\n",
    "print(dls)\n",
    "\n",
    "l_l1 = ([\"Name\",\"Yudha\"],[\"age\",19],[\"status\",True])\n",
    "dls1 = dict(l_l1)\n",
    "print(dls1)"
   ]
  },
  {
   "cell_type": "code",
   "execution_count": null,
   "id": "81d71561",
   "metadata": {},
   "outputs": [],
   "source": []
  }
 ],
 "metadata": {
  "kernelspec": {
   "display_name": "Python 3 (ipykernel)",
   "language": "python",
   "name": "python3"
  },
  "language_info": {
   "codemirror_mode": {
    "name": "ipython",
    "version": 3
   },
   "file_extension": ".py",
   "mimetype": "text/x-python",
   "name": "python",
   "nbconvert_exporter": "python",
   "pygments_lexer": "ipython3",
   "version": "3.9.12"
  }
 },
 "nbformat": 4,
 "nbformat_minor": 5
}
