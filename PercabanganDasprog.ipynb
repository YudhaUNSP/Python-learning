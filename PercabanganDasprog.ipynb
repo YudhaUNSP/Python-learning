{
 "cells": [
  {
   "cell_type": "markdown",
   "id": "5854a90d-e435-44ae-9e31-3bc520e011b1",
   "metadata": {
    "id": "5854a90d-e435-44ae-9e31-3bc520e011b1"
   },
   "source": [
    "Buatlah program yang meminta pengguna memasukkan usia seseorang, lalu tentukan apakah dia <br>\n",
    "anak-anak (0-12 tahun), remaja (13-17 tahun), dewasa (18-59 tahun), atau lansia (60 tahun ke atas)."
   ]
  },
  {
   "cell_type": "code",
   "execution_count": 3,
   "id": "75a2fdcd-1ef1-45e4-9d79-c6a7cb708a18",
   "metadata": {
    "id": "75a2fdcd-1ef1-45e4-9d79-c6a7cb708a18"
   },
   "outputs": [
    {
     "name": "stdin",
     "output_type": "stream",
     "text": [
      "Masukkan usia seseorang:  30\n"
     ]
    },
    {
     "name": "stdout",
     "output_type": "stream",
     "text": [
      "Kategori usia: dewasa\n"
     ]
    }
   ],
   "source": [
    "usia = int(input(\"Masukkan usia seseorang: \"))\n",
    "\n",
    "# Membuat mapping kategori usia\n",
    "kategori = (\n",
    "    (usia <= 12) * \"anak-anak\" +\n",
    "    (13 <= usia <= 17) * \"remaja\" +\n",
    "    (18 <= usia <= 59) * \"dewasa\" +\n",
    "    (usia >= 60) * \"lansia\"\n",
    ")\n",
    "\n",
    "print(f\"Kategori usia: {kategori}\")"
   ]
  },
  {
   "cell_type": "markdown",
   "id": "68c95835-e4ad-4bd0-89ca-168200893cf7",
   "metadata": {
    "id": "68c95835-e4ad-4bd0-89ca-168200893cf7"
   },
   "source": [
    "Sebuah taman hiburan memiliki aturan harga tiket berdasarkan usia:\n",
    "<ol>\n",
    "<li>Anak-anak (0-12 tahun): Rp 10.000</li>\n",
    "<li>Remaja (13-17 tahun): Rp 15.000</li>\n",
    "<li>Dewasa (18-59 tahun): Rp 25.000</li>\n",
    "<li>Lansia (60 tahun ke atas): Gratis</li>\n",
    "</ol>\n",
    "Buat program untuk menentukan harga tiket berdasarkan usia yang dimasukkan pengguna dan total harga yang harus dibayar, jika terdapat 3 input seperti berikut ini"
   ]
  },
  {
   "cell_type": "code",
   "execution_count": 4,
   "id": "66ee699f-8355-48e0-939a-dcc73ba4425b",
   "metadata": {
    "id": "66ee699f-8355-48e0-939a-dcc73ba4425b"
   },
   "outputs": [
    {
     "name": "stdin",
     "output_type": "stream",
     "text": [
      "Masukkan usia:  20000\n",
      "Masukkan usia:  10\n",
      "Masukkan usia:  20\n"
     ]
    },
    {
     "name": "stdout",
     "output_type": "stream",
     "text": [
      "Total harga yang harus dibayar: Rp 35.000\n"
     ]
    }
   ],
   "source": [
    "total = 0\n",
    "\n",
    "for _ in range(3):\n",
    "    usia = int(input(\"Masukkan usia: \"))\n",
    "    harga = (usia <= 12) * 10000 + (13 <= usia <= 17) * 15000 + (18 <= usia <= 59) * 25000\n",
    "    total += harga\n",
    "\n",
    "print(f\"Total harga yang harus dibayar: Rp {total:,}\".replace(',','.'))"
   ]
  },
  {
   "cell_type": "markdown",
   "id": "82eac646-d930-42f5-a253-03f84c32f943",
   "metadata": {
    "id": "82eac646-d930-42f5-a253-03f84c32f943"
   },
   "source": [
    "Sebuah restoran memiliki diskon khusus:\n",
    "Anak-anak (0-12 tahun) diskon 50%\n",
    "Lansia (60 tahun ke atas) diskon 30%\n",
    "Selain itu, tidak ada diskon\n",
    "Buat program untuk menghitung harga yang harus dibayar setelah diskon diberikan."
   ]
  },
  {
   "cell_type": "code",
   "execution_count": 6,
   "id": "feb31fca-fce6-4e5f-a25f-8752e7a0033b",
   "metadata": {
    "id": "feb31fca-fce6-4e5f-a25f-8752e7a0033b"
   },
   "outputs": [
    {
     "name": "stdin",
     "output_type": "stream",
     "text": [
      "Masukkan usia:  11\n",
      "Masukkan harga:  20000\n"
     ]
    },
    {
     "name": "stdout",
     "output_type": "stream",
     "text": [
      "Harga setelah diskon: Rp 10.000\n"
     ]
    }
   ],
   "source": [
    "usia = int(input(\"Masukkan usia: \"))\n",
    "harga = float(input(\"Masukkan harga: \"))\n",
    "\n",
    "harga_akhir = harga * (\n",
    "    (usia <= 12) * 0.5 + \n",
    "    (13 <= usia < 60) * 1.0 + \n",
    "    (usia >= 60) * 0.7\n",
    ")\n",
    "\n",
    "print(f\"Harga setelah diskon: Rp {harga_akhir:,.0f}\".replace(',', '.'))"
   ]
  },
  {
   "cell_type": "markdown",
   "id": "aee8bab3-9bf1-4732-97e1-7abb32ce7184",
   "metadata": {
    "id": "aee8bab3-9bf1-4732-97e1-7abb32ce7184"
   },
   "source": [
    "Program beasiswa:\n",
    "<ol>\n",
    "<li>Jika nilai rapor ≥ 90 dan penghasilan orang tua < Rp 5.000.000 → Beasiswa Penuh</li>\n",
    "<li>Jika nilai rapor ≥ 85 dan penghasilan orang tua < Rp 8.000.000 → Beasiswa 50%</li>\n",
    "<li>Jika tidak memenuhi syarat di atas → Tidak mendapatkan beasiswa</li>\n",
    "</ol>"
   ]
  },
  {
   "cell_type": "code",
   "execution_count": 11,
   "id": "55a9ec4f-531b-4326-bca3-e0d19b4be47d",
   "metadata": {
    "id": "55a9ec4f-531b-4326-bca3-e0d19b4be47d"
   },
   "outputs": [
    {
     "name": "stdin",
     "output_type": "stream",
     "text": [
      "Masukkan nilai rapor:  85\n",
      "Masukkan penghasilan orang tua: Rp  5000000\n"
     ]
    },
    {
     "name": "stdout",
     "output_type": "stream",
     "text": [
      "\n",
      "Status: Beasiswa 50%\n",
      "Persentase beasiswa: 50%\n"
     ]
    }
   ],
   "source": [
    "nilai = float(input(\"Masukkan nilai rapor: \"))\n",
    "penghasilan = float(input(\"Masukkan penghasilan orang tua: Rp \"))\n",
    "\n",
    "full = (nilai >= 90) * (penghasilan < 5_000_000)\n",
    "partial = (nilai >= 85) * (penghasilan < 8_000_000) * (1 - full)\n",
    "\n",
    "message = (\n",
    "    \"Beasiswa Penuh\" * full +\n",
    "    \"Beasiswa 50%\" * partial +\n",
    "    \"Tidak mendapatkan beasiswa\" * (1 - (full + partial))\n",
    ")\n",
    "\n",
    "print(f\"\\nStatus: {message}\")\n",
    "print(f\"Persentase beasiswa: {int(100 * (full + partial * 0.5))}%\")"
   ]
  },
  {
   "cell_type": "markdown",
   "id": "57ea9062-e1af-4650-8eab-a47a01a9d04f",
   "metadata": {
    "id": "57ea9062-e1af-4650-8eab-a47a01a9d04f"
   },
   "source": [
    "Suatu aplikasi streaming memiliki batasan usia:\n",
    "<ol>\n",
    "<li>Film Semua Umur: Bisa ditonton oleh siapa saja</li>\n",
    "<li>Film Remaja: Hanya untuk usia ≥ 13 tahun</li>\n",
    "<li>Film Dewasa: Hanya untuk usia ≥ 18 tahun</li>\n",
    "</ol>\n",
    "Buat program yang meminta input usia dan kategori film, lalu tentukan apakah seseorang boleh menonton film tersebut atau tidak."
   ]
  },
  {
   "cell_type": "code",
   "execution_count": 13,
   "id": "2c00f464-3390-4c94-9ec2-4b63c55b871b",
   "metadata": {
    "id": "2c00f464-3390-4c94-9ec2-4b63c55b871b"
   },
   "outputs": [
    {
     "name": "stdin",
     "output_type": "stream",
     "text": [
      "Masukkan usia:  20\n",
      "Masukkan kategori film:  Remaja\n"
     ]
    },
    {
     "name": "stdout",
     "output_type": "stream",
     "text": [
      "\n",
      "Hasil: Boleh menonton\n"
     ]
    }
   ],
   "source": [
    "usia = int(input(\"Masukkan usia: \"))\n",
    "kategori = input(\"Masukkan kategori film: \").title()\n",
    "\n",
    "# Mapping kategori ke usia minimum menggunakan dictionary\n",
    "min_usia = {\n",
    "    \"Semua Umur\": 0,\n",
    "    \"Remaja\": 13,\n",
    "    \"Dewasa\": 18\n",
    "}[kategori]\n",
    "\n",
    "# Hitung status izin menggunakan boolean\n",
    "izin = (usia >= min_usia)\n",
    "hasil = \"Boleh menonton\" * izin + \"Tidak boleh menonton\" * (not izin)\n",
    "\n",
    "print(f\"\\nHasil: {hasil}\")"
   ]
  },
  {
   "cell_type": "markdown",
   "id": "7b87c04c-85f0-4dc1-a14a-f67d8b2c4e6a",
   "metadata": {
    "id": "7b87c04c-85f0-4dc1-a14a-f67d8b2c4e6a"
   },
   "source": [
    "Sebuah toko memberikan diskon berdasarkan jumlah pembelian:\n",
    "<ol>\n",
    "<li>Jika total belanja ≥ Rp 500.000 → Diskon 20%</li>\n",
    "<li>Jika total belanja ≥ Rp 250.000 → Diskon 10%</li>\n",
    "<li>Jika total belanja < Rp 250.000 → Tidak ada diskon</li>\n",
    "</ol>\n",
    "Hitung harga akhir setelah diskon."
   ]
  },
  {
   "cell_type": "code",
   "execution_count": 14,
   "id": "966923a0-c87b-4559-8fc1-3090d448ad4a",
   "metadata": {
    "id": "966923a0-c87b-4559-8fc1-3090d448ad4a"
   },
   "outputs": [
    {
     "name": "stdin",
     "output_type": "stream",
     "text": [
      "Masukkan total belanja: Rp  600000\n"
     ]
    },
    {
     "name": "stdout",
     "output_type": "stream",
     "text": [
      "Harga akhir setelah diskon: Rp 480.000\n"
     ]
    }
   ],
   "source": [
    "total = int(input(\"Masukkan total belanja: Rp \"))\n",
    "diskon = (total >= 500_000) * 0.2 + ( (total >= 250_000) * (total < 500_000) ) * 0.1\n",
    "harga_akhir = total * (1 - diskon)\n",
    "\n",
    "print(f\"Harga akhir setelah diskon: Rp {harga_akhir:,.0f}\".replace(',','.'))"
   ]
  },
  {
   "cell_type": "markdown",
   "id": "88e22629-48cc-4917-86e7-2bf4df863182",
   "metadata": {
    "id": "88e22629-48cc-4917-86e7-2bf4df863182"
   },
   "source": [
    "Program parkir:\n",
    "<ol>\n",
    "<li>Mobil: Rp 5.000 per jam</li>\n",
    "<li>Motor: Rp 2.000 per jam</li>\n",
    "<li>Jika parkir lebih dari 5 jam, ada biaya tambahan Rp 10.000</li>\n",
    "</ol>\n",
    "Hitung total biaya parkir berdasarkan jenis kendaraan dan durasi parkir."
   ]
  },
  {
   "cell_type": "code",
   "execution_count": 15,
   "id": "b8f7b918-70a1-4a88-945f-406c4aafbec7",
   "metadata": {
    "id": "b8f7b918-70a1-4a88-945f-406c4aafbec7"
   },
   "outputs": [
    {
     "name": "stdin",
     "output_type": "stream",
     "text": [
      "Masukkan jenis kendaraan (Mobil/Motor):  Mobil\n",
      "Masukkan durasi parkir (jam):  10\n"
     ]
    },
    {
     "name": "stdout",
     "output_type": "stream",
     "text": [
      "Total biaya parkir: Rp 60.000\n"
     ]
    }
   ],
   "source": [
    "jenis = input(\"Masukkan jenis kendaraan (Mobil/Motor): \").title()\n",
    "durasi = int(input(\"Masukkan durasi parkir (jam): \"))\n",
    "\n",
    "tarif = {'Mobil': 5000, 'Motor': 2000}\n",
    "biaya_dasar = tarif[jenis] * durasi\n",
    "\n",
    "biaya_tambahan = (durasi > 5) * 10000  # True=1, False=0\n",
    "total = biaya_dasar + biaya_tambahan\n",
    "\n",
    "print(f\"Total biaya parkir: Rp {total:,}\".replace(',', '.'))"
   ]
  },
  {
   "cell_type": "markdown",
   "id": "2db1d34c-3f80-4f8c-aaf2-910c38c05414",
   "metadata": {
    "id": "2db1d34c-3f80-4f8c-aaf2-910c38c05414"
   },
   "source": [
    "Aplikasi transportasi online memiliki tarif sebagai berikut:\n",
    "<ol>\n",
    "<li>Jika jarak ≤ 5 km → Rp 5.000/km</li>\n",
    "<li>Jika jarak 6-10 km → Rp 4.000/km</li>\n",
    "<li>Jika jarak > 10 km → Rp 3.000/km</li>\n",
    "</ol>\n",
    "Hitung tarif perjalanan berdasarkan jarak yang dimasukkan pengguna.\n"
   ]
  },
  {
   "cell_type": "code",
   "execution_count": 16,
   "id": "5a5b719e-76f6-4f45-a8e4-07853113ce9e",
   "metadata": {
    "id": "5a5b719e-76f6-4f45-a8e4-07853113ce9e"
   },
   "outputs": [
    {
     "name": "stdin",
     "output_type": "stream",
     "text": [
      "Masukkan jarak (km):  4\n"
     ]
    },
    {
     "name": "stdout",
     "output_type": "stream",
     "text": [
      "Tarif perjalanan: Rp 20.000\n"
     ]
    }
   ],
   "source": [
    "jarak = int(input(\"Masukkan jarak (km): \"))\n",
    "\n",
    "tarif = (jarak <= 5) * 5000 + (5 < jarak <= 10) * 4000 + (jarak > 10) * 3000\n",
    "total = jarak * tarif\n",
    "\n",
    "print(f\"Tarif perjalanan: Rp {total:,}\".replace(',','.'))"
   ]
  },
  {
   "cell_type": "markdown",
   "id": "d1cf7b61-e309-40ec-b1fd-4bc56550a10d",
   "metadata": {
    "id": "d1cf7b61-e309-40ec-b1fd-4bc56550a10d"
   },
   "source": [
    "Buatlah sebuah sistem penerimaan calon programmer yang akan menerima dua nilai ( nilai coding dan nilai interview). Untuk penilaian test coding skala penilaian yang diberikan dimulai dari 0 hingga 100 dengan sistem penilaian:\n",
    "<ol>\n",
    "<li>ketika seseorang mendapatkan nilai lebih dari 80 maka peserta tersebut akan mendapatkan hasil tes LOLOS</li>\n",
    "<li>ketika sesorang mendapatkan nilai diantara 60 hingga 80 maka peserta tersebut mendapatkan hasil tes DIPERTIMBANGKAN</li>\n",
    "<li>ketika seseorang mendapatkan nilai dibawah 60 maka peserta tersebut mendapatkan hasil tes GAGAL.</li>\n",
    "</ol>\n",
    "\n",
    "Sedangkan untuk penilaian interview adalah\n",
    "<ol>\n",
    "<li>ketika nilai yang diberikan kepada seseorang tersebut adalah \"A\" atau \"B\" maka peserta tersebut dianggap LOLOS interview</li>\n",
    "\n",
    "<li>selain kedua nilai tersebut maka peserta dianggap GAGAL tes interview.</li>\n",
    "</ol>\n",
    "\n",
    "Ketika calon programmer mendapatkan nilai coding LOLOS atau DIPERTIMBANGKAN dan juga LOLOS test interview maka tampilkanlah pesan \"Selamat Kamu Berhasil Menjadi Calon Programmer\". Jika tidak maka tampilkanlah pesan \"Maaf Kamu Belum Berhasil Menjadi Calon Programmer\""
   ]
  },
  {
   "cell_type": "code",
   "execution_count": 18,
   "id": "7aeb0f89-e957-4c0d-a29c-139fc269e1c0",
   "metadata": {
    "id": "7aeb0f89-e957-4c0d-a29c-139fc269e1c0"
   },
   "outputs": [
    {
     "name": "stdin",
     "output_type": "stream",
     "text": [
      "Masukkan nilai coding:  60\n",
      "Masukkan nilai interview:  C\n"
     ]
    },
    {
     "name": "stdout",
     "output_type": "stream",
     "text": [
      "Maaf Kamu Belum Berhasil Menjadi Calon Programmer Mending Scroll Fesnuk\n"
     ]
    }
   ],
   "source": [
    "nilai_coding = int(input(\"Masukkan nilai coding: \"))\n",
    "nilai_interview = input(\"Masukkan nilai interview: \").upper()\n",
    "\n",
    "lolos_coding = (nilai_coding > 80)\n",
    "dipertimbangkan = (60 <= nilai_coding <= 80)\n",
    "gagal_coding = (nilai_coding < 60)\n",
    "\n",
    "lolos_interview = (nilai_interview in {'A', 'B'})\n",
    "\n",
    "kriteria_coding = lolos_coding + dipertimbangkan  \n",
    "kriteria_interview = lolos_interview \n",
    "\n",
    "hasil = (\n",
    "    \"Selamat Kamu Berhasil Menjadi Calon Programmer\" * (kriteria_coding * kriteria_interview) +\n",
    "    \"Maaf Kamu Belum Berhasil Menjadi Calon Programmer Mending Scroll Fesnuk\" * (1 - (kriteria_coding * kriteria_interview))\n",
    ")\n",
    "\n",
    "print(hasil)"
   ]
  },
  {
   "cell_type": "markdown",
   "id": "364647af-075b-4bc0-8c83-4c816415ff74",
   "metadata": {
    "id": "364647af-075b-4bc0-8c83-4c816415ff74"
   },
   "source": [
    "Sebuah klub sepak bola “PERSEGI FC” mempunyai aturan dalam memberikan nomor punggung bagi para pemainnya. Para pemain diperbolehkan mempunyai posisi lebih dari 1. Berikut adalah beberapa\n",
    "aturannya:\n",
    "<ol>\n",
    "<li>Untuk nomor punggung genap, digunakan untuk posisi “target attacker”</li>\n",
    "<li>Untuk nomor punggung genap antara 50 – 100, digunakan untuk pemain yang “berhak dipilih menjadi capten team”</li>\n",
    "<li>Untuk nomor punggung ganjil, digunakan untuk posisi “defender”</li>\n",
    "<li>Untuk nomor punggung ganjil lebih dari 90, digunakan untuk posisi “Playmaker”</li>\n",
    "<li>Untuk nomor punggung ganjil kelipatan dari 3 dan 5, digunakan untuk posisi “keeper”</li>\n",
    "</ol>\n",
    "Buatlah program untuk melakukan pengecekan sebuah nomor punggung dapat berfungsi sebagai posisi apa saja."
   ]
  },
  {
   "cell_type": "code",
   "execution_count": 19,
   "id": "2d1d5589-126b-44e3-9d9e-1bed865ff65c",
   "metadata": {
    "id": "2d1d5589-126b-44e3-9d9e-1bed865ff65c"
   },
   "outputs": [
    {
     "name": "stdin",
     "output_type": "stream",
     "text": [
      "Masukkan nomor punggung:  95\n"
     ]
    },
    {
     "name": "stdout",
     "output_type": "stream",
     "text": [
      "Nomor punggung 95 dapat digunakan pada posisi: Defender, Playmaker\n"
     ]
    }
   ],
   "source": [
    "nomor = int(input(\"Masukkan nomor punggung: \"))\n",
    "\n",
    "target_attacker = (nomor % 2 == 0)\n",
    "captain_team = (nomor % 2 == 0) * (50 <= nomor <= 100)\n",
    "defender = (nomor % 2 == 1)\n",
    "playmaker = (nomor % 2 == 1) * (nomor > 90)\n",
    "keeper = (nomor % 2 == 1) * (nomor % 15 == 0)\n",
    "\n",
    "result = (\n",
    "    \"Target Attacker, \" * target_attacker +\n",
    "    \"Berhak dipilih menjadi captain team, \" * captain_team +\n",
    "    \"Defender, \" * defender +\n",
    "    \"Playmaker, \" * playmaker +\n",
    "    \"Keeper, \" * keeper\n",
    ").rstrip(\", \")\n",
    "\n",
    "print(f\"Nomor punggung {nomor} dapat digunakan pada posisi: {result}\")"
   ]
  },
  {
   "cell_type": "code",
   "execution_count": null,
   "id": "a4bfe177-ebd1-4521-a601-7566ba35f14e",
   "metadata": {},
   "outputs": [],
   "source": []
  }
 ],
 "metadata": {
  "colab": {
   "provenance": []
  },
  "kernelspec": {
   "display_name": "Python 3 (ipykernel)",
   "language": "python",
   "name": "python3"
  },
  "language_info": {
   "codemirror_mode": {
    "name": "ipython",
    "version": 3
   },
   "file_extension": ".py",
   "mimetype": "text/x-python",
   "name": "python",
   "nbconvert_exporter": "python",
   "pygments_lexer": "ipython3",
   "version": "3.12.7"
  }
 },
 "nbformat": 4,
 "nbformat_minor": 5
}
