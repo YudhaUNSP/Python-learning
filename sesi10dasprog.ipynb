{
 "cells": [
  {
   "cell_type": "code",
   "execution_count": 8,
   "id": "401bac6a-5a99-47e9-83e4-9f66727e636c",
   "metadata": {},
   "outputs": [],
   "source": [
    "import numpy as np\n",
    "import pandas as pd"
   ]
  },
  {
   "cell_type": "code",
   "execution_count": 9,
   "id": "70c71278-f168-4db5-a1d4-bcff66746b69",
   "metadata": {},
   "outputs": [],
   "source": [
    "mat1D = np.array([1, 2, 3, 4, 5, 6, 7, 8, 9])\n",
    "mat2D = np.array([[1,2,3],\n",
    "                  [4,5,6],\n",
    "                  [7,8,9]])"
   ]
  },
  {
   "cell_type": "code",
   "execution_count": 10,
   "id": "cb8e1f04-510a-47f7-93ab-d589272aaccd",
   "metadata": {},
   "outputs": [
    {
     "name": "stdout",
     "output_type": "stream",
     "text": [
      "Matriks 1D:\n",
      "[1 2 3 4 5 6 7 8 9]\n",
      "Matriks 1D indeks ke-7:\n",
      "8\n",
      "Matriks 1D * 10:\n",
      "[10 20 30 40 50 60 70 80 90]\n"
     ]
    }
   ],
   "source": [
    "print(f\"Matriks 1D:\\n{mat1D}\")\n",
    "print(f\"Matriks 1D indeks ke-7:\\n{mat1D[7]}\")\n",
    "print(f\"Matriks 1D * 10:\\n{mat1D * 10}\")"
   ]
  },
  {
   "cell_type": "code",
   "execution_count": 11,
   "id": "f00781e8-1f35-4ee5-aba9-b45cec2eea82",
   "metadata": {},
   "outputs": [
    {
     "name": "stdout",
     "output_type": "stream",
     "text": [
      "Matriks 2D:\n",
      "[[1 2 3]\n",
      " [4 5 6]\n",
      " [7 8 9]]\n",
      "Matriks 2D * 10:\n",
      "[[10 20 30]\n",
      " [40 50 60]\n",
      " [70 80 90]]\n"
     ]
    }
   ],
   "source": [
    "print(f\"Matriks 2D:\\n{mat2D}\")\n",
    "print(f\"Matriks 2D * 10:\\n{mat2D * 10}\")"
   ]
  },
  {
   "cell_type": "code",
   "execution_count": 12,
   "id": "49f7ab5b-4a57-46d6-b032-bc1e53db9c00",
   "metadata": {},
   "outputs": [
    {
     "name": "stdout",
     "output_type": "stream",
     "text": [
      "Ukuran Matriks 1D:\n",
      "9\n",
      "Ukuran Matriks 2D:\n",
      "9\n"
     ]
    }
   ],
   "source": [
    "print(f\"Ukuran Matriks 1D:\\n{mat1D.size}\")\n",
    "print(f\"Ukuran Matriks 2D:\\n{mat2D.size}\")"
   ]
  },
  {
   "cell_type": "code",
   "execution_count": 13,
   "id": "9df0219e-8ebe-415a-8398-a15b2c393716",
   "metadata": {},
   "outputs": [
    {
     "name": "stdout",
     "output_type": "stream",
     "text": [
      "Matriks Nol (3x3):\n",
      "[[0. 0. 0.]\n",
      " [0. 0. 0.]\n",
      " [0. 0. 0.]]\n",
      "\n",
      "Matriks Satu (3000x3000), ditampilkan sebagian:\n",
      "[[1. 1. 1.]\n",
      " [1. 1. 1.]\n",
      " [1. 1. 1.]]\n",
      "\n",
      "Matriks Full (4x4) isi 7:\n",
      "[[7 7 7 7]\n",
      " [7 7 7 7]\n",
      " [7 7 7 7]\n",
      " [7 7 7 7]]\n",
      "\n",
      "Matriks Identitas (4x4):\n",
      "[[1. 0. 0. 0.]\n",
      " [0. 1. 0. 0.]\n",
      " [0. 0. 1. 0.]\n",
      " [0. 0. 0. 1.]]\n"
     ]
    }
   ],
   "source": [
    "mZero = np.zeros((3, 3))              \n",
    "mOne = np.ones((3000, 3000))          \n",
    "mFull = np.full((4, 4), 7)            \n",
    "mIdentity = np.eye(4)               \n",
    "\n",
    "# Cetak hasil\n",
    "print(\"Matriks Nol (3x3):\")\n",
    "print(mZero)\n",
    "\n",
    "print(\"\\nMatriks Satu (3000x3000), ditampilkan sebagian:\")\n",
    "print(mOne[:3, :3]) \n",
    "\n",
    "print(\"\\nMatriks Full (4x4) isi 7:\")\n",
    "print(mFull)\n",
    "\n",
    "print(\"\\nMatriks Identitas (4x4):\")\n",
    "print(mIdentity)"
   ]
  },
  {
   "cell_type": "code",
   "execution_count": 16,
   "id": "f48bc7dc-7b49-4389-9252-1a7debeb0fd6",
   "metadata": {},
   "outputs": [
    {
     "name": "stdout",
     "output_type": "stream",
     "text": [
      "\n",
      "Data Sample (10 Pertama):\n",
      "\n",
      "Data ke- 1: Gender = Male   | Usia = 35 | Transaksi =  1 | Pembayaran = Cash\n",
      "Data ke- 2: Gender = Female | Usia = 43 | Transaksi =  9 | Pembayaran = E-Wallet\n",
      "Data ke- 3: Gender = Male   | Usia = 51 | Transaksi =  9 | Pembayaran = Cash\n",
      "Data ke- 4: Gender = Male   | Usia = 27 | Transaksi =  4 | Pembayaran = Credit Card\n",
      "Data ke- 5: Gender = Male   | Usia = 53 | Transaksi =  9 | Pembayaran = Credit Card\n",
      "Data ke- 6: Gender = Female | Usia = 31 | Transaksi =  3 | Pembayaran = E-Wallet\n",
      "Data ke- 7: Gender = Male   | Usia = 48 | Transaksi =  7 | Pembayaran = Credit Card\n",
      "Data ke- 8: Gender = Male   | Usia = 32 | Transaksi =  6 | Pembayaran = Cash\n",
      "Data ke- 9: Gender = Male   | Usia = 25 | Transaksi =  8 | Pembayaran = E-Wallet\n",
      "Data ke-10: Gender = Female | Usia = 31 | Transaksi =  9 | Pembayaran = Cash\n",
      "\n",
      "Jumlah Total Data:\n",
      "100 baris\n",
      "\n",
      "Ringkasan Statistik:\n",
      "\n",
      "        Gender        Usia  Transaksi Pembayaran\n",
      "count      100  100.000000  100.00000        100\n",
      "unique       2         NaN        NaN          3\n",
      "top     Female         NaN        NaN       Cash\n",
      "freq        56         NaN        NaN         36\n",
      "mean       NaN   39.980000    5.11000        NaN\n",
      "std        NaN   12.212744    2.94356        NaN\n",
      "min        NaN   18.000000    1.00000        NaN\n",
      "25%        NaN   30.000000    3.00000        NaN\n",
      "50%        NaN   41.500000    5.00000        NaN\n",
      "75%        NaN   50.250000    8.00000        NaN\n",
      "max        NaN   60.000000   10.00000        NaN\n"
     ]
    }
   ],
   "source": [
    "np.random.seed(42)\n",
    "\n",
    "jumlah_data = 100\n",
    "\n",
    "daftar_gender = ['Male', 'Female']\n",
    "daftar_pembayaran = ['Cash', 'Credit Card', 'E-Wallet']\n",
    "\n",
    "data_gender = np.random.choice(daftar_gender, size=jumlah_data)\n",
    "data_usia = np.random.randint(low=18, high=61, size=jumlah_data)\n",
    "data_transaksi = np.random.randint(low=1, high=11, size=jumlah_data)\n",
    "data_pembayaran = np.random.choice(daftar_pembayaran, size=jumlah_data)\n",
    "\n",
    "data_dict = {\n",
    "    'Gender': data_gender,\n",
    "    'Usia': data_usia,\n",
    "    'Transaksi': data_transaksi,\n",
    "    'Pembayaran': data_pembayaran\n",
    "}\n",
    "\n",
    "df = pd.DataFrame(data_dict)\n",
    "\n",
    "print(\"\\nData Sample (10 Pertama):\\n\")\n",
    "for i in range(10):\n",
    "    print(f\"Data ke-{i+1:2}: Gender = {df['Gender'][i]:6} | Usia = {df['Usia'][i]:2} \"\n",
    "          f\"| Transaksi = {df['Transaksi'][i]:2} | Pembayaran = {df['Pembayaran'][i]}\")\n",
    "\n",
    "jumlah_baris = df.shape[0]\n",
    "print(f\"\\nJumlah Total Data:\\n{jumlah_baris} baris\")\n",
    "\n",
    "print(\"\\nRingkasan Statistik:\\n\")\n",
    "deskripsi = df.describe(include='all')\n",
    "print(deskripsi)"
   ]
  },
  {
   "cell_type": "code",
   "execution_count": null,
   "id": "90043e1f-391d-442b-bc84-eeb7c9249c13",
   "metadata": {},
   "outputs": [],
   "source": []
  }
 ],
 "metadata": {
  "kernelspec": {
   "display_name": "Python [conda env:base] *",
   "language": "python",
   "name": "conda-base-py"
  },
  "language_info": {
   "codemirror_mode": {
    "name": "ipython",
    "version": 3
   },
   "file_extension": ".py",
   "mimetype": "text/x-python",
   "name": "python",
   "nbconvert_exporter": "python",
   "pygments_lexer": "ipython3",
   "version": "3.12.7"
  }
 },
 "nbformat": 4,
 "nbformat_minor": 5
}
