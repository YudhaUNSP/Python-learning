{
 "cells": [
  {
   "cell_type": "markdown",
   "id": "5ec6ec4d-895c-42ad-9998-7225d2bf16ed",
   "metadata": {},
   "source": [
    "# My Bini\n",
    "<center><img src=\"https://cdn.myanimelist.net/images/characters/9/484263.jpg\" width \"200\"></center>\n",
    "<br>\n",
    "Apakah Sumi Sakurasawa <b>Waifu</b> terbaik\n",
    "<ol>\n",
    "<li>Betul</li>\n",
    "<li>Betul cuman rasa jeruk</li>\n",
    "</ol>\n",
    "<hr>"
   ]
  },
  {
   "cell_type": "markdown",
   "id": "d6ca7caa-fc35-4aae-ad58-99af8fa2cbd3",
   "metadata": {},
   "source": [
    "# Orang pedo\n",
    "<b>Orang Terpedo</b> Adalah\n",
    "<ul>\n",
    "    <li>Raffa</li>\n",
    "    <li>Raffi</li>\n",
    "</ul>\n",
    "\n",
    "<hr>\n",
    "\n",
    "# Perintah\n",
    "<table>\n",
    "    <tr>\n",
    "        <td>Perintah</td>\n",
    "        <td>Keterangan</td>\n",
    "    </tr>\n",
    "    <tr>\n",
    "        <td>Ctrl + enter</td>\n",
    "        <td>Running program dengan fokus di cell</td>\n",
    "    </tr>\n",
    "    <tr>\n",
    "        <td>Shift enter</td>\n",
    "        <td>Running Program dengan fokus di cell</td>\n",
    "    </tr>\n",
    "</table>"
   ]
  },
  {
   "cell_type": "code",
   "execution_count": 14,
   "id": "cba3ffec-0d8d-4021-9940-19065e9dc867",
   "metadata": {},
   "outputs": [
    {
     "name": "stdout",
     "output_type": "stream",
     "text": [
      "Raffa Raffi Pedo\n",
      "Aseli\n",
      "25\n"
     ]
    }
   ],
   "source": [
    "# CMD Print\n",
    "\n",
    "print(\"Raffa Raffi Pedo\")\n",
    "data = \"Aseli\"\n",
    "print(data)\n",
    "Penjumlahan = 10+15\n",
    "print(Penjumlahan)"
   ]
  }
 ],
 "metadata": {
  "kernelspec": {
   "display_name": "Python 3 (ipykernel)",
   "language": "python",
   "name": "python3"
  },
  "language_info": {
   "codemirror_mode": {
    "name": "ipython",
    "version": 3
   },
   "file_extension": ".py",
   "mimetype": "text/x-python",
   "name": "python",
   "nbconvert_exporter": "python",
   "pygments_lexer": "ipython3",
   "version": "3.12.7"
  }
 },
 "nbformat": 4,
 "nbformat_minor": 5
}
